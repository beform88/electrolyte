{
 "cells": [
  {
   "cell_type": "code",
   "execution_count": 13,
   "metadata": {},
   "outputs": [],
   "source": [
    "# to xyz\n",
    "from rdkit import Chem\n",
    "from rdkit.Chem import AllChem\n",
    "import pandas as pd\n",
    "\n",
    "a = pd.read_csv('/vepfs/fs_users/ycjin/electrolyte/data/raw_data/smiles.csv',header=None)\n",
    "a = a.to_numpy()\n",
    "\n",
    "for i in a:\n",
    "    smiles = i[1]\n",
    "    name = i[0]\n",
    "    hs = Chem.AddHs(Chem.MolFromSmiles(smiles))\n",
    "    AllChem.EmbedMultipleConfs(hs, numConfs=10, useExpTorsionAnglePrefs=True, useBasicKnowledge=True)\n",
    "    Chem.MolToXYZFile(hs, f'/vepfs/fs_users/ycjin/electrolyte/data/structure/{name}.xyz')"
   ]
  },
  {
   "cell_type": "code",
   "execution_count": 8,
   "metadata": {},
   "outputs": [
    {
     "name": "stderr",
     "output_type": "stream",
     "text": [
      "/opt/conda/lib/python3.8/site-packages/tqdm/auto.py:21: TqdmWarning: IProgress not found. Please update jupyter and ipywidgets. See https://ipywidgets.readthedocs.io/en/stable/user_install.html\n",
      "  from .autonotebook import tqdm as notebook_tqdm\n"
     ]
    }
   ],
   "source": [
    "# to unimol input dict\n",
    "import ase\n",
    "from ase.io import read\n",
    "import numpy as np\n",
    "import pickle\n",
    "from rdkit import Chem\n",
    "import sys \n",
    "sys.path.append('/vepfs/fs_users/ycjin/electrolyte/electrolyte')\n",
    "from utils import Mol2Input\n",
    "solvent = ['DME','HFE','Toluene',\"1,4-Dioxane\",'Digylme','THF','DMM','EC','PC','FEC','sulfolane','FEMC']\n",
    "solvent_input_dict = {}\n",
    "for i in solvent:\n",
    "    mol = read(f'/vepfs/fs_users/ycjin/electrolyte/data/structure/solvent/{i}.xyz')\n",
    "    mol2input_func = Mol2Input(finetune = True)\n",
    "    input = mol2input_func.mol2_inputs([mol,])\n",
    "    solvent_input_dict[i] = input['unimol']\n",
    "\n",
    "f_save = open('/vepfs/fs_users/ycjin/electrolyte/data/structure/solvent_input_dict.pkl', 'wb')\n",
    "pickle.dump(solvent_input_dict, f_save)\n",
    "f_save.close()\n",
    "\n",
    "anion = ['FSI',]\n",
    "anion_input_dict = {}\n",
    "for i in anion:\n",
    "    mol = read(f'/vepfs/fs_users/ycjin/electrolyte/data/structure/anion/{i}.xyz')\n",
    "    mol2input_func = Mol2Input(finetune = True)\n",
    "    input = mol2input_func.mol2_inputs([mol,])\n",
    "    anion_input_dict[i] = input['unimol']\n",
    "\n",
    "f_save = open('/vepfs/fs_users/ycjin/electrolyte/data/structure/anion_input_dict.pkl', 'wb')\n",
    "pickle.dump(anion_input_dict, f_save)\n",
    "f_save.close()"
   ]
  }
 ],
 "metadata": {
  "kernelspec": {
   "display_name": "eleceng",
   "language": "python",
   "name": "python3"
  },
  "language_info": {
   "codemirror_mode": {
    "name": "ipython",
    "version": 3
   },
   "file_extension": ".py",
   "mimetype": "text/x-python",
   "name": "python",
   "nbconvert_exporter": "python",
   "pygments_lexer": "ipython3",
   "version": "3.8.13"
  },
  "orig_nbformat": 4
 },
 "nbformat": 4,
 "nbformat_minor": 2
}
